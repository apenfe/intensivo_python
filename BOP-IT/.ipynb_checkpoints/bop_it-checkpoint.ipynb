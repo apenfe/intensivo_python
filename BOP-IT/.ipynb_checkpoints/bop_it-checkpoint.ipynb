{
 "cells": [
  {
   "cell_type": "code",
   "id": "initial_id",
   "metadata": {
    "collapsed": true,
    "ExecuteTime": {
     "end_time": "2024-06-08T18:18:37.563120Z",
     "start_time": "2024-06-08T18:18:37.555533Z"
    }
   },
   "source": [
    "import random\n",
    "from IPython.display import display, Audio\n",
    "\n",
    "def seleccionar_estado():\n",
    "    estado = random.choice(('gira','estira','bop-it'))\n",
    "    return estado\n",
    "\n",
    "def comando_voz(estado):\n",
    "    sonido = Audio(filename='C:\\\\Users\\\\adria\\\\intensivo_python\\\\intensivo_python\\\\BOP-IT\\\\'+estado+'.wav',autoplay=True)\n",
    "    display(sonido,clear=True)"
   ],
   "outputs": [],
   "execution_count": 11
  },
  {
   "metadata": {},
   "cell_type": "code",
   "source": "comando_voz(seleccionar_estado())",
   "id": "541e4d338dea1766",
   "execution_count": 12,
   "outputs": []
  },
  {
   "metadata": {
    "ExecuteTime": {
     "end_time": "2024-06-08T18:18:37.590614Z",
     "start_time": "2024-06-08T18:18:37.585059Z"
    }
   },
   "cell_type": "code",
   "source": "",
   "id": "35620965ad7e320c",
   "outputs": [],
   "execution_count": 12
  }
 ],
 "metadata": {
  "kernelspec": {
   "display_name": "Python 3",
   "language": "python",
   "name": "python3"
  },
  "language_info": {
   "codemirror_mode": {
    "name": "ipython",
    "version": 2
   },
   "file_extension": ".py",
   "mimetype": "text/x-python",
   "name": "python",
   "nbconvert_exporter": "python",
   "pygments_lexer": "ipython2",
   "version": "2.7.6"
  }
 },
 "nbformat": 4,
 "nbformat_minor": 5
}
